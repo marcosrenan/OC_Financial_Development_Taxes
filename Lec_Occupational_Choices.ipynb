{
 "cells": [
  {
   "cell_type": "markdown",
   "metadata": {
    "slideshow": {
     "slide_type": "slide"
    }
   },
   "source": [
    "## \n",
    "### \n",
    "\n",
    "\n",
    "## <font color='red'><center>Application: Occupational Choices</center><font>\n",
    "    \n",
    "### [Marcos R. V. Magalhães](https://marcosrenan.github.io)"
   ]
  },
  {
   "cell_type": "markdown",
   "metadata": {
    "slideshow": {
     "slide_type": "slide"
    }
   },
   "source": [
    "## Motivation\n",
    "\n",
    "A well-known implication of neoclassical growth theory is that economies that have similar preferences and technologies converge to the same steady state per capita income.\n",
    "\n",
    "\n",
    "In contrast, in development economics, we frequently encounter the idea of poverty traps:\n",
    "- poor individuals and economies tend to remain poor because they start poor. \n",
    "\n",
    "One specific mechanism leading to the persistence of poverty that has recently received a lot of\n",
    "attention operates through borrowing constraints.\n",
    "- Poor individuals face greater borrowing constraints, which prevent them from adopting efficient technologies or choosing profitable occupations, and hence they remain poor."
   ]
  },
  {
   "cell_type": "markdown",
   "metadata": {
    "slideshow": {
     "slide_type": "subslide"
    }
   },
   "source": [
    "At the aggregate level, this implies that unlike in neoclassical growth models, two economies that are identical in terms of all parameters may end up with different levels of per capita incomes in the steady state if initially they have different distributions of wealth and hence different sizes of the types of credit constraints. \n",
    "- This argument is often invoked to explain the evidence from cross-country analysis suggesting that various measures of initial inequality are negatively correlated with growth\n",
    "\n",
    "Key insight: \n",
    "\n",
    "- in the presence of credit market imperfections, the current distribution of wealth will determine the\n",
    "proportion of credit-constrained individuals in the economy, which in turn may affect equilibrium returns to various occupations in a way that affects the future wealth distribution through intergenerational transfers."
   ]
  },
  {
   "cell_type": "markdown",
   "metadata": {
    "slideshow": {
     "slide_type": "subslide"
    }
   },
   "source": [
    "It turns out that the dynamic behavior of an economy in the presence of credit market imperfections is fairly complicated. \n",
    "\n",
    "Even under strong simplifying assumptions regarding technology, preferences and market structure, it is difficult to give clear-cut answers to questions such as\n",
    "- when do initial conditions matter? \n",
    "- if initial conditions matters, what is the relationship between initial inequality and the steady-state level of per capita income of an economy. \n",
    "\n",
    "\n",
    "In this notebook we address these issues by analyzing a simple and tractable dynamic model of occupational choice in the presence of credit market imperfections."
   ]
  },
  {
   "cell_type": "markdown",
   "metadata": {
    "slideshow": {
     "slide_type": "slide"
    }
   },
   "source": [
    "## The Economy\n",
    "\n",
    "The economy is populated by one-period lived agents in discrete time. \n",
    "\n",
    "\n",
    "#### Agents\n",
    "* Agents are heterogeneous with respect to their endowments and their ability to manage a firm. \n",
    "\n",
    "\n",
    "* Agent's wealth is inherited from her previous generation but her entrepreneurial ability is not. \n",
    "\n",
    "\n",
    "* Agents are endowed with one unit of time and they can choose to become an entrepreneur or a worker. \n",
    "\n",
    "\n",
    "* If an agent decides to become an entrepreneur she produces a single final good managing\n",
    "    - Firms combine labor and capital to produce output. \n",
    "\n",
    "\n",
    "* Instead of managing a firm, agents can work and are paid a competitive wage rate.\n",
    "    - A worker does not value leisure and, hence, she inelastically supplies labor. "
   ]
  },
  {
   "cell_type": "markdown",
   "metadata": {
    "slideshow": {
     "slide_type": "subslide"
    }
   },
   "source": [
    "#### Firms\n",
    "* Firms face output taxation and credit constraints. \n",
    "\n",
    "\n",
    "* All firms have access to the financial markets, which is represented by an exogenous large number of financial intermediaries. \n",
    "    - Financial intermediaries rent agents' wealth and lend it at an endogenously determined interest rate. \n",
    "    \n",
    "    \n",
    "* The final good can be either consumed, invested or left as bequests for the next generation.\n",
    "    - Price is normalized to one. \n",
    "    \n",
    "    \n",
    "* The decision to become an entrepreneur and the firm's size depend on \n",
    "    - an agent's ability to manage a firm, \n",
    "    - her inherited wealth, \n",
    "    - her access to financial markets,\n",
    "    - output taxation. \n",
    "\n",
    "#### Government\n",
    "* The government taxes workers and formal firms."
   ]
  },
  {
   "cell_type": "markdown",
   "metadata": {
    "slideshow": {
     "slide_type": "subslide"
    }
   },
   "source": [
    "#### Timing\n",
    "\n",
    "i. At the beginning of period, an agent $i$ inherit wealth $ b_i$ from their parents (initial wealth), which follows from endogenously determined wealth distribution $G$.\n",
    "\n",
    "\n",
    "ii. Next, agents choose their occupations (entrepreneur or worker). \n",
    "\n",
    "\n",
    "iii. Production takes place. \n",
    "\n",
    "\n",
    "iv. Based on the occupational choice payoffs, all agents then decide how much to consume.\n",
    "\n",
    "\n",
    "v. The government taxes workers and entrepreneurs. \n",
    "\n"
   ]
  },
  {
   "cell_type": "markdown",
   "metadata": {
    "slideshow": {
     "slide_type": "subslide"
    }
   },
   "source": [
    "An agent's preferences are represented by the following utility function\n",
    "\n",
    "$$ u(c_i,b_i) = c_i^\\eta b_i^{1-\\eta}$$\n",
    "\n",
    "where $\\eta \\in (0,1)$ represents the weight of consumption on the agent's utility.\n",
    "\n",
    "\n",
    "Agents value their consumption $c$ and the amount of wealth $b$.\n",
    "- Imagine that $b_i$ is the amount of wealth agents leave for their offspring (Banerjee and Newman, 1993)"
   ]
  },
  {
   "cell_type": "markdown",
   "metadata": {
    "slideshow": {
     "slide_type": "subslide"
    }
   },
   "source": [
    "If an agent decides to become an entrepreneur, she combines labor ($l$) and capital ($k$), along with her entrepreneurial ability $x_i$ to produce output according to the following production technology\n",
    "\n",
    "$$ y = x_i k^{\\alpha} l^{\\beta},$$\n",
    "\n",
    "where $\\alpha$, $\\beta$ $\\in (0,1)$ and $k$, $l$  are the capital and labor inputs, respectively. \n",
    "\n",
    "\n",
    "* Production technology exhibits decreasing returns to scale, i.e., $\\alpha + \\beta < 1$."
   ]
  },
  {
   "cell_type": "markdown",
   "metadata": {
    "slideshow": {
     "slide_type": "subslide"
    }
   },
   "source": [
    "#### The Workers'  Problem\n",
    "\n",
    "An agent with inherited wealth $b$ that decides to become a worker inelastically supplies labor to a firm, taking the wage rate $w$ as given. \n",
    "\n",
    "Hence, the worker's payoff $\\Pi_{w} (b_i; w, r)$ is given by\n",
    "\n",
    "$$ \\Pi_{w} (b_i; w, r) =  (1-\\tau_w)w + (1+r)b_i + T, $$ \n",
    "\n",
    "where\n",
    "- $\\tau_{w}$ is the tax rate on labor income,\n",
    "- $r$ is the rate of return on households' savings,\n",
    "- $w$ is the wage rate and\n",
    "- $T$ is a lump-sum government transfer."
   ]
  },
  {
   "cell_type": "markdown",
   "metadata": {
    "slideshow": {
     "slide_type": "subslide"
    }
   },
   "source": [
    "##### The Entrepreneurs Problem\n",
    "\n",
    "Instead of supplying labor services, an agent can choose to become an entrepreneur and manage a firm.\n",
    "\n",
    "\n",
    "An entrepreneur's goal is to maximize profit by producing and selling the final good according to a production function, subject to labor and capital costs and output taxation. \n",
    "\n",
    "\n",
    "The profit maximization problem of an entrepreneur ($e$) managing a firm is as follows:\n",
    "\n",
    "\\begin{equation}\n",
    "\\pi_{e} (b_i, x_i; w, r) =  \\underset{k, l \\geq 0 }{max} \\hspace{0.2cm} \\left\\{\\left(1 -  \\tau_{F}\\right) y - w l - (1+r)k: \\quad 0 \\leq k \\leq \\lambda b_i \\right\\}.  \n",
    "\\end{equation}\n",
    "\n",
    "\n",
    "More about the credit constraint, i.e. $0 \\leq k \\leq \\lambda b_i$, soon."
   ]
  },
  {
   "cell_type": "markdown",
   "metadata": {
    "slideshow": {
     "slide_type": "subslide"
    }
   },
   "source": [
    "The entrepreneur's payoff $\\Pi_{e}$ is given by\n",
    "\n",
    "\\begin{equation}\n",
    "\\Pi_{e} (b_i, x_i; w, r) =  \\pi_{e} (b_i, x_i; w, r) + (1+r) b_i + T,\n",
    "\\end{equation}\n",
    "\n",
    "which also takes into account the return on the entrepreneur's own financial resources $(1+r) b_i$ and government transfers $T$. "
   ]
  },
  {
   "cell_type": "markdown",
   "metadata": {
    "slideshow": {
     "slide_type": "subslide"
    }
   },
   "source": [
    "###### Credit Constraint  $0 \\leq k \\leq \\lambda b_i$.\n",
    "\n",
    "\n",
    "* We assume that credit markets are imperfect and all borrowing and lending decisions are made through financial intermediaries. \n",
    "\n",
    "\n",
    "* The amount of capital $k$ used in production combines the entrepreneur's own capital and capital borrowed from financial intermediaries. \n",
    "\n",
    "\n",
    "* A capital constrained entrepreneur can obtain additional funds but due to the imperfect enforceability of contracts, the access to additional units of capital is determined by the entrepreneur's own wealth through a collateral constraint $0 \\leq k \\leq \\lambda b$, where $\\lambda \\geq 1$. \n",
    "\n",
    "\n",
    "\n",
    "* The parameter $\\lambda$ informs the entrepreneur's accessibility to financial markets (economy's degree of financial development). \n",
    "    * If $\\lambda \\rightarrow \\infty$, the credit market is perfect and there are no barriers to indebtedness. \n",
    "    * When $\\lambda = 1$ the firm's capital is financed by the entrepreneur's own resources. "
   ]
  },
  {
   "cell_type": "markdown",
   "metadata": {
    "slideshow": {
     "slide_type": "subslide"
    }
   },
   "source": [
    "A formal entrepreneur's profit maximization problem imply the following optimal capital demand functions:\n",
    "\n",
    "\\begin{align}\n",
    "k &= \\left[ x_i(1-\\tau_{F}) \\left( \\dfrac{\\alpha}{1+r} \\right)^{1-\\beta} \\left( \\dfrac{\\beta}{w} \\right)^{\\beta} \\right]^{\\frac{1}{1-\\alpha -\\beta}}, \\hspace{0.2cm} \\text{if} \\quad k \\leq  b_i, \\hspace{1cm} \\\\ \\\\\n",
    "k &= \\lambda b_i, \\hspace{0.2cm} \\text{otherwise.}\n",
    "\\end{align}\n",
    "\n",
    "\n",
    "\n",
    "* Entrepreneurs with optimal capital demand $k \\leq b$ constitute the mass of self-financed entrepreneurs.\n",
    "\n",
    "\n",
    "* If the optimal capital demand of an entrepreneur is greater than her own resources $b_i$ (i.e., $b_i < k \\leq \\lambda b_i$) she will finance production with additional resources through the financial markets."
   ]
  },
  {
   "cell_type": "markdown",
   "metadata": {
    "slideshow": {
     "slide_type": "subslide"
    }
   },
   "source": [
    "The optimal labor demand functions:\n",
    "\n",
    "\\begin{align} \n",
    "l &= \\left[ x_i(1-\\tau_{F}) \\left( \\dfrac{\\alpha}{1+r} \\right)^{\\alpha} \\left( \\dfrac{\\beta}{w} \\right)^{1-\\alpha}\\right]^{\\frac{1}{1-\\alpha-\\beta}}, \\hspace{0.2cm} if \\hspace{0.2cm} k \\leq b_i; \\hspace{1cm} \\\\ \\\\\n",
    "l &= \\left[ x_i (1-\\tau_{F}) (\\lambda b_i)^{\\alpha} \\left( \\dfrac{\\beta }{w} \\right) \\right]^{\\frac{1}{1-\\beta}},  \\hspace{0.2cm} \\text{otherwise.}  \n",
    "\\end{align}"
   ]
  },
  {
   "cell_type": "markdown",
   "metadata": {
    "slideshow": {
     "slide_type": "subslide"
    }
   },
   "source": [
    "* Equations above highlight the fact that we have two types of entrepreneurs\n",
    "    - Entrepreneurs that onstrained by their own resources but with access to the financial markets\n",
    "    - Unconstrained entrepreneurs\n",
    "    \n",
    "   \n",
    "* Taxation of formal output $(\\tau_{F})$ and the formal entrepreneur's accessibility to financial markets ($\\lambda \\geq 1$) affect the firm's optimal capital and labor allocations, and, thus, the optimal firm's profit."
   ]
  },
  {
   "cell_type": "markdown",
   "metadata": {
    "slideshow": {
     "slide_type": "slide"
    }
   },
   "source": [
    "## Optimal Occupational Choice\n",
    "\n",
    "The agent's optimal occupational choice is the one that generates the highest payoff, i.e., the solution of the following maximization problem:\n",
    "\n",
    "\n",
    "\\begin{equation}\n",
    "\\Pi(b_i,x_i; w,r) = \\max \\left\\{ \\Pi_{w}(b_i;w), \\Pi_{e}(b_i,x_i; w,r) \\right\\}.\n",
    "\\end{equation}"
   ]
  },
  {
   "cell_type": "markdown",
   "metadata": {
    "slideshow": {
     "slide_type": "subslide"
    }
   },
   "source": [
    "#### Mass of entrepreneurs and workers in the economy\n",
    "\n",
    "\n",
    "Given the entrepreneurial ability and wealth distributions, from the solution of the agent's problem we can characterize the mass of entrepreneurs $\\mathbb{E}(w,r)$ \n",
    "\n",
    "\n",
    "\\begin{eqnarray}\n",
    "\\mathbb{E}(w,r) &= \\{ (b_i,x_i) \\in \\mathscr{O} : \\displaystyle \\Pi(b_i,x_i;w,r) \\geqslant \\displaystyle \\Pi_{w}(b_i;w) \\},\n",
    "\\end{eqnarray}\n",
    "\n",
    "\n",
    "and the mass of workers $\\mathbb{W}(w,r)$ in the economy,\n",
    "\n",
    "\n",
    "\\begin{eqnarray}\n",
    "\\mathbb{W}(w,r) &= \\{ (b_i,x_i) \\in \\mathscr{O} : \\displaystyle \\Pi_{w}(b_i;w) > \\displaystyle \\Pi(b_i,x_i;w,r) \\}, \n",
    "\\end{eqnarray}\n",
    "\n",
    "\n",
    "\n",
    "where $\\mathscr{O} = \\text{[} 0,\\infty\\text{)} \\times \\text{[} x_L,x_H]$ and $\\mathbb{E}(w,r) + \\mathbb{W}(w,r) = 1$."
   ]
  },
  {
   "cell_type": "markdown",
   "metadata": {
    "slideshow": {
     "slide_type": "subslide"
    }
   },
   "source": [
    "##### Agent's Utility Maximization Problem\n",
    "\n",
    "The agent's optimization problem is to maximize utility subject to the following budget constraint:\n",
    "\n",
    "\\begin{equation}\n",
    "c + b_{i} \\leq \\Pi(b_i,x_i; w,r),\n",
    "\\end{equation}\n",
    "\n",
    "where $\\Pi(b,x; w,r)= \\max \\left\\{ \\Pi_{w}(b_i;w), \\Pi_{e}(b_i,x_i; w,r) \\right\\}$. \n",
    "\n",
    "\n",
    "The solution of the agent's utility maximization problem implies that\n",
    "- $c = \\eta \\Pi(\\cdot)$ and \n",
    "- $b = (1-\\eta) \\Pi(\\cdot)$."
   ]
  },
  {
   "cell_type": "markdown",
   "metadata": {
    "slideshow": {
     "slide_type": "subslide"
    }
   },
   "source": [
    "##### The Government and the Economy's Resource Constraint\n",
    "\n",
    "The government finances transfers $T$ to entrepreneurs and workers through taxation ( $\\mathbb{T}_F$) and labor income tax on workers ( $\\mathbb{T}_{w}$). The government budget constraint is as follows:\n",
    "\n",
    "\\begin{equation}\n",
    "\\mathbb{T}_{F} + \\mathbb{T}_{w} =  \\iint\\limits T F(dx) G_t (db),\n",
    "\\end{equation}\n",
    "\n",
    "where\n",
    "\n",
    "$$\\mathbb{T}_F = \\iint\\limits_{\\mathbb{\\mathbb{E}}(w,r)}\\tau y_F F(dx)G_t(db), \\quad \\mathbb{T}_{w}=\\iint\\limits_{\\mathbb{W}(w,r)}\\tau_{w} w F(dx)G_t(db).$$\n",
    "\n",
    "---\n",
    "\n",
    "The economy's resource constraint is\n",
    "\n",
    "\\begin{align}\n",
    "\\iint\\limits_{\\mathbb{E}{(w,r)}} y F(dx)G_t(db) &= \\iint\\limits_{\\mathbb{E}(w,r) \\cup \\mathbb{W}(w,r)} (c+h+T) F(dx)G_t(db) \n",
    "% + \\iint\\limits_{\\mathbb{E}(w,r) \\cup \\mathbb{W}(w,r)} h F(dx)G_t(db) + \\iint\\limits_{\\mathbb{E}(w,r) \\ \\cup \\mathbb{W}(w,r)} T F(dx)G_t(db)\n",
    "\\end{align}\n",
    "\n",
    "where, abusing notation, $ h \\equiv b_{t+1}$."
   ]
  },
  {
   "cell_type": "markdown",
   "metadata": {
    "slideshow": {
     "slide_type": "slide"
    }
   },
   "source": [
    "## Numerical Solution in Python\n",
    "\n",
    "\n",
    "We will take 4 steps:\n",
    "1. Set up the economy\n",
    "2. Simulate the economy\n",
    "3. Study the economy in equilibrium\n",
    "4. Output, capital and labor distributions\n",
    "\n",
    "**OBS:** In this simple example, for didactic purposes we will not be considering the evolution of the economy from generation to generation and, therefore, we will not study here the role of capital accumulation. In other words, the economy is static."
   ]
  },
  {
   "cell_type": "markdown",
   "metadata": {
    "slideshow": {
     "slide_type": "slide"
    }
   },
   "source": [
    "## Step 1: Simulate the economy"
   ]
  },
  {
   "cell_type": "code",
   "execution_count": 1,
   "metadata": {
    "scrolled": true,
    "slideshow": {
     "slide_type": "fragment"
    }
   },
   "outputs": [],
   "source": [
    "# Import the required libraries\n",
    "import random\n",
    "import numpy as np\n",
    "import time as time\n",
    "import matplotlib.pyplot as plt"
   ]
  },
  {
   "cell_type": "code",
   "execution_count": 2,
   "metadata": {
    "scrolled": true,
    "slideshow": {
     "slide_type": "subslide"
    }
   },
   "outputs": [],
   "source": [
    "# Set seed: If you want to generate the same number every time, you need to pass\n",
    "#           the same seed value before calling any other random module function.\n",
    "random.seed(10)"
   ]
  },
  {
   "cell_type": "code",
   "execution_count": 3,
   "metadata": {
    "slideshow": {
     "slide_type": "subslide"
    }
   },
   "outputs": [],
   "source": [
    "# Declare key parameters of our economy\n",
    "\n",
    "# Greek letters list\n",
    "# α, β, Γ, γ, Δ, δ, ε, ζ, η, θ, ι, κ, Λ, λ, μ, ν, Ξ, ξ, Π, π, ρ, Σ, σ, τ, υ, Φ, φ, χ, Ψ, ψ, Ω, ω\n",
    "\n",
    "# Parameters\n",
    "λ   = 2.5     # Degree of financial development (credit constraint)\n",
    "τ_f = 0.22    # Output taxation\n",
    "τ_w = 0.2     # Labor income taxation\n",
    "α   = 0.35    # Capital share \n",
    "β   = 0.55    # Labor share \n",
    "η   = 0.88    # Curvature of Utility function \n",
    "n   = 50000   # 50000 agents in this economy\n",
    "ι   = 1.1     # increased productivity by obtaining external resources"
   ]
  },
  {
   "cell_type": "code",
   "execution_count": 4,
   "metadata": {
    "slideshow": {
     "slide_type": "subslide"
    }
   },
   "outputs": [],
   "source": [
    "# Some important distributions (initial wealth and entrepreneur's ability)\n",
    "#\n",
    "# Initial wealth (Pareto) distribution\n",
    "\n",
    "from scipy.stats import pareto\n",
    "b = np.linspace(1,2, n)\n",
    "b = pareto.pdf(b, 0.5, scale=0.15)\n",
    "b = b.reshape((n,1))\n",
    "b = b - np.min(b)\n",
    "\n",
    "b = b*2\n",
    "\n",
    "# Entrepreneur's ability (uniform) distribution\n",
    "x_low  = 0.00001\n",
    "x_high = 2\n",
    "\n",
    "x = np.random.uniform(x_low, x_high, size=(n,1)) "
   ]
  },
  {
   "cell_type": "code",
   "execution_count": 5,
   "metadata": {
    "slideshow": {
     "slide_type": "subslide"
    }
   },
   "outputs": [],
   "source": [
    "# Import message about the algorithm (Let's proceed with this using bisection)\n",
    "#print('\\n'\n",
    "#      'ExDmd is the excess demand for labor or capital. '\n",
    "#      'If ExDmd > 1, the excess demand takes place, \\n'\n",
    "#      'so the price market (r or w) is increased in order to reduce '\n",
    "#      'the ExDmd until this market in question clears. \\n'\n",
    "#      '(The contrary takes place otherwise...)\\n')"
   ]
  },
  {
   "cell_type": "code",
   "execution_count": 6,
   "metadata": {
    "slideshow": {
     "slide_type": "subslide"
    }
   },
   "outputs": [],
   "source": [
    "r_loop, w_loop = 1, 1      # to measure the number of loops in both labor and capital markets\n",
    "\n",
    "tol1, tol2     = 5, 1      # tolerance bands (These don't have to be too small)\n",
    "\n",
    "\n",
    "#Initial guesses\n",
    "\n",
    "w=1; w_high = 5*w; w_low=0.00001*w;   # Wage: initial guess of wage\n",
    "\n",
    "r = 1; r_high = 3*r; r_low=0.00001*r; # Interest rate: initial guess\n",
    "\n",
    "iter_max = 1e6                        # max number of iterations\n",
    "\n",
    "decimal = 4                           # Number of decimal places"
   ]
  },
  {
   "cell_type": "code",
   "execution_count": 7,
   "metadata": {
    "slideshow": {
     "slide_type": "subslide"
    }
   },
   "outputs": [],
   "source": [
    "# Pre allocating all allocation decisions to accelerate the code\n",
    "income     = np.zeros((n,1))\n",
    "output     = np.zeros((n,1))\n",
    "occupation = np.zeros((n,1))\n",
    "c          = np.zeros((n,1))\n",
    "kf         = np.zeros((n,1))\n",
    "lf         = np.zeros((n,1))\n",
    "b1         = np.zeros((n,1))\n",
    "credit     = np.zeros((n,1))\n",
    "\n",
    "# Label the occupational choices\n",
    "oc_worker                    = 1     # Worker\n",
    "oc_formal_firm_unconstrained = 2     # Unconstrained Entrepreneurs\n",
    "oc_formal_firm_constrained   = 3     # Constrained Entrepreneurs"
   ]
  },
  {
   "cell_type": "markdown",
   "metadata": {
    "slideshow": {
     "slide_type": "subslide"
    }
   },
   "source": [
    "### Algorithm:\n",
    "\n",
    "**--- Outer Loop ----**\n",
    "\n",
    "Search over values of `r_low` - `r_high` until\n",
    "$$ExDmd = capital demand - capital supply =0$$\n",
    "(using bisection, minimization etc.)\n",
    "\n",
    "* *--- Inner Loop ---*\n",
    "\n",
    "    - Given a `w_guess`\n",
    "    - Solve for allocations\n",
    "    - Compute excess labor demand\n",
    "    \n",
    "* *--- End Inner Loop ---*\n",
    "\n",
    "**--- End Outer Loop ----**\n",
    "\n",
    "\n",
    "> Note: It takes about 3min to run the code below"
   ]
  },
  {
   "cell_type": "code",
   "execution_count": 8,
   "metadata": {
    "scrolled": true,
    "slideshow": {
     "slide_type": "subslide"
    }
   },
   "outputs": [
    {
     "name": "stdout",
     "output_type": "stream",
     "text": [
      "How long does it take to run the two loops?\n",
      "\n",
      "Iteration over labor market: number 1, ExDmd = -50000.0 and w = 1.\n",
      "Iteration over labor market: number 2, ExDmd = -50000.0 and w = 1.25.\n",
      "Iteration over labor market: number 3, ExDmd = -50000.0 and w = 0.625.\n",
      "Iteration over labor market: number 4, ExDmd = -22601.3587 and w = 0.3125.\n",
      "Iteration over labor market: number 5, ExDmd = 3009234.3574 and w = 0.1563.\n",
      "\n",
      "Iteration over labor market: number 6, ExDmd = 163787.5643 and w = 0.2344.\n",
      "Iteration over labor market: number 7, ExDmd = 23548.296 and w = 0.2734.\n",
      "Iteration over labor market: number 8, ExDmd = -4685.6925 and w = 0.293.\n",
      "Iteration over labor market: number 9, ExDmd = 7555.6659 and w = 0.2832.\n",
      "Iteration over labor market: number 10, ExDmd = 1101.576 and w = 0.2881.\n",
      "\n",
      "Iteration over labor market: number 11, ExDmd = -1693.6589 and w = 0.2905.\n",
      "Iteration over labor market: number 12, ExDmd = -323.8376 and w = 0.2893.\n",
      "Iteration over labor market: number 13, ExDmd = 411.9747 and w = 0.2887.\n",
      "Iteration over labor market: number 14, ExDmd = 37.9663 and w = 0.289.\n",
      "Iteration over labor market: number 15, ExDmd = -123.797 and w = 0.2892.\n",
      "\n",
      "Iteration over labor market: number 16, ExDmd = -35.0778 and w = 0.2891.\n",
      "Iteration over labor market: number 17, ExDmd = 6.0214 and w = 0.289.\n",
      "Iteration over labor market: number 18, ExDmd = -9.0361 and w = 0.2891.\n",
      "----------------------------------------\n",
      "The labor market clearing wage is 0.2891\n",
      "----------------------------------------\n",
      " \n",
      "Iteration over capital market: number 1, ExDmd = -1044.6354 and r = 1.\n",
      " \n",
      "Iteration over labor market: number 19, ExDmd = -50000.0 and w = 1.\n",
      "Iteration over labor market: number 20, ExDmd = -50000.0 and w = 0.6251.\n",
      "\n",
      "Iteration over labor market: number 21, ExDmd = -4727.2164 and w = 0.3126.\n",
      "Iteration over labor market: number 22, ExDmd = 4814375.5078 and w = 0.1563.\n",
      "Iteration over labor market: number 23, ExDmd = 296201.9436 and w = 0.2345.\n",
      "Iteration over labor market: number 24, ExDmd = 70283.2807 and w = 0.2735.\n",
      "Iteration over labor market: number 25, ExDmd = 22746.6691 and w = 0.2931.\n",
      "\n",
      "Iteration over labor market: number 26, ExDmd = 7345.5375 and w = 0.3028.\n",
      "Iteration over labor market: number 27, ExDmd = 911.1498 and w = 0.3077.\n",
      "Iteration over labor market: number 28, ExDmd = -1958.0143 and w = 0.3101.\n",
      "Iteration over labor market: number 29, ExDmd = -603.5363 and w = 0.3089.\n",
      "Iteration over labor market: number 30, ExDmd = 152.2572 and w = 0.3083.\n",
      "\n",
      "Iteration over labor market: number 31, ExDmd = -200.3655 and w = 0.3086.\n",
      "Iteration over labor market: number 32, ExDmd = -9.8767 and w = 0.3085.\n",
      "Iteration over labor market: number 33, ExDmd = 75.676 and w = 0.3084.\n",
      "Iteration over labor market: number 34, ExDmd = 37.1843 and w = 0.3084.\n",
      "Iteration over labor market: number 35, ExDmd = 25.0117 and w = 0.3084.\n",
      "\n",
      "Iteration over labor market: number 36, ExDmd = 8.1283 and w = 0.3085.\n",
      "----------------------------------------\n",
      "The labor market clearing wage is 0.3085\n",
      "----------------------------------------\n",
      " \n",
      "Iteration over capital market: number 2, ExDmd = -218.5182 and r = 0.75.\n",
      " \n",
      "Iteration over labor market: number 37, ExDmd = -50000.0 and w = 1.\n",
      "Iteration over labor market: number 38, ExDmd = -50000.0 and w = 0.6251.\n",
      "Iteration over labor market: number 39, ExDmd = 67496.2243 and w = 0.3126.\n",
      "Iteration over labor market: number 40, ExDmd = -49922.4183 and w = 0.4688.\n",
      "\n",
      "Iteration over labor market: number 41, ExDmd = -34044.1615 and w = 0.3907.\n",
      "Iteration over labor market: number 42, ExDmd = -3454.565 and w = 0.3516.\n",
      "Iteration over labor market: number 43, ExDmd = 24644.7138 and w = 0.3321.\n",
      "Iteration over labor market: number 44, ExDmd = 8954.4081 and w = 0.3419.\n",
      "Iteration over labor market: number 45, ExDmd = 2535.7604 and w = 0.3468.\n",
      "\n",
      "Iteration over labor market: number 46, ExDmd = -562.8548 and w = 0.3492.\n",
      "Iteration over labor market: number 47, ExDmd = 939.9389 and w = 0.348.\n",
      "Iteration over labor market: number 48, ExDmd = 197.9275 and w = 0.3486.\n",
      "Iteration over labor market: number 49, ExDmd = -246.6826 and w = 0.3489.\n",
      "Iteration over labor market: number 50, ExDmd = -38.6834 and w = 0.3487.\n",
      "\n",
      "Iteration over labor market: number 51, ExDmd = 93.0042 and w = 0.3487.\n",
      "Iteration over labor market: number 52, ExDmd = 30.4277 and w = 0.3487.\n",
      "----------------------------------------\n",
      "The labor market clearing wage is 0.3487\n",
      "----------------------------------------\n",
      " \n",
      "Iteration over capital market: number 3, ExDmd = 1946.0797 and r = 0.375.\n",
      " \n",
      "Iteration over labor market: number 53, ExDmd = -50000.0 and w = 1.\n",
      "Iteration over labor market: number 54, ExDmd = -50000.0 and w = 0.6251.\n",
      "Iteration over labor market: number 55, ExDmd = 20150.4617 and w = 0.3126.\n",
      "\n",
      "Iteration over labor market: number 56, ExDmd = -50000.0 and w = 0.4688.\n",
      "Iteration over labor market: number 57, ExDmd = -43576.6436 and w = 0.3907.\n",
      "Iteration over labor market: number 58, ExDmd = -23559.4751 and w = 0.3516.\n",
      "Iteration over labor market: number 59, ExDmd = -6334.2542 and w = 0.3321.\n",
      "Iteration over labor market: number 60, ExDmd = 5152.1513 and w = 0.3224.\n",
      "\n",
      "Iteration over labor market: number 61, ExDmd = -890.7059 and w = 0.3272.\n",
      "Iteration over labor market: number 62, ExDmd = 1967.6842 and w = 0.3248.\n",
      "Iteration over labor market: number 63, ExDmd = 548.3906 and w = 0.326.\n",
      "Iteration over labor market: number 64, ExDmd = -205.9777 and w = 0.3266.\n",
      "Iteration over labor market: number 65, ExDmd = 165.0727 and w = 0.3263.\n",
      "\n",
      "Iteration over labor market: number 66, ExDmd = -43.3631 and w = 0.3265.\n",
      "Iteration over labor market: number 67, ExDmd = 64.6742 and w = 0.3264.\n",
      "Iteration over labor market: number 68, ExDmd = 10.3467 and w = 0.3264.\n",
      "Iteration over labor market: number 69, ExDmd = -15.9034 and w = 0.3265.\n",
      "----------------------------------------\n",
      "The labor market clearing wage is 0.3264\n",
      "----------------------------------------\n",
      " \n",
      "Iteration over capital market: number 4, ExDmd = 673.0791 and r = 0.5625.\n",
      "\n",
      " \n",
      "Iteration over labor market: number 70, ExDmd = -50000.0 and w = 1.\n",
      "\n",
      "Iteration over labor market: number 71, ExDmd = -50000.0 and w = 0.6251.\n",
      "Iteration over labor market: number 72, ExDmd = 5638.2965 and w = 0.3126.\n",
      "Iteration over labor market: number 73, ExDmd = -50000.0 and w = 0.4688.\n",
      "Iteration over labor market: number 74, ExDmd = -45045.4684 and w = 0.3907.\n",
      "Iteration over labor market: number 75, ExDmd = -30017.5998 and w = 0.3516.\n",
      "\n",
      "Iteration over labor market: number 76, ExDmd = -15661.1697 and w = 0.3321.\n",
      "Iteration over labor market: number 77, ExDmd = -5992.4798 and w = 0.3224.\n",
      "Iteration over labor market: number 78, ExDmd = -451.6016 and w = 0.3175.\n",
      "Iteration over labor market: number 79, ExDmd = 2450.8212 and w = 0.315.\n",
      "Iteration over labor market: number 80, ExDmd = 928.4025 and w = 0.3162.\n",
      "\n",
      "Iteration over labor market: number 81, ExDmd = 238.1391 and w = 0.3169.\n",
      "Iteration over labor market: number 82, ExDmd = -83.6996 and w = 0.3172.\n",
      "Iteration over labor market: number 83, ExDmd = 64.7466 and w = 0.317.\n",
      "Iteration over labor market: number 84, ExDmd = -6.9107 and w = 0.3171.\n",
      "Iteration over labor market: number 85, ExDmd = 28.7518 and w = 0.3171.\n",
      "\n",
      "Iteration over labor market: number 86, ExDmd = 13.4285 and w = 0.3171.\n",
      "Iteration over labor market: number 87, ExDmd = 7.2558 and w = 0.3171.\n",
      "----------------------------------------\n",
      "The labor market clearing wage is 0.3171\n",
      "----------------------------------------\n",
      " \n",
      "Iteration over capital market: number 5, ExDmd = 193.6698 and r = 0.6563.\n",
      " \n",
      "Iteration over labor market: number 88, ExDmd = -50000.0 and w = 1.\n",
      "Iteration over labor market: number 89, ExDmd = -50000.0 and w = 0.6251.\n",
      "Iteration over labor market: number 90, ExDmd = 148.9301 and w = 0.3126.\n",
      "\n",
      "Iteration over labor market: number 91, ExDmd = -50000.0 and w = 0.4688.\n",
      "Iteration over labor market: number 92, ExDmd = -45716.4491 and w = 0.3907.\n",
      "Iteration over labor market: number 93, ExDmd = -32520.5284 and w = 0.3516.\n",
      "Iteration over labor market: number 94, ExDmd = -19313.8303 and w = 0.3321.\n",
      "Iteration over labor market: number 95, ExDmd = -10711.2447 and w = 0.3224.\n",
      "\n",
      "Iteration over labor market: number 96, ExDmd = -5450.0162 and w = 0.3175.\n",
      "Iteration over labor market: number 97, ExDmd = -2791.9551 and w = 0.315.\n",
      "Iteration over labor market: number 98, ExDmd = -1342.2124 and w = 0.3138.\n"
     ]
    },
    {
     "name": "stdout",
     "output_type": "stream",
     "text": [
      "Iteration over labor market: number 99, ExDmd = -605.3756 and w = 0.3132.\n",
      "Iteration over labor market: number 100, ExDmd = -219.8338 and w = 0.3129.\n",
      "\n",
      "Iteration over labor market: number 101, ExDmd = -29.2061 and w = 0.3127.\n",
      "Iteration over labor market: number 102, ExDmd = 73.9078 and w = 0.3127.\n",
      "Iteration over labor market: number 103, ExDmd = 19.7933 and w = 0.3127.\n",
      "Iteration over labor market: number 104, ExDmd = 7.5257 and w = 0.3127.\n",
      "Iteration over labor market: number 105, ExDmd = -7.2522 and w = 0.3127.\n",
      "\n",
      "----------------------------------------\n",
      "The labor market clearing wage is 0.3127\n",
      "----------------------------------------\n",
      " \n",
      "Iteration over capital market: number 6, ExDmd = -18.1015 and r = 0.7031.\n",
      " \n",
      "Iteration over labor market: number 106, ExDmd = -50000.0 and w = 1.\n",
      "Iteration over labor market: number 107, ExDmd = -50000.0 and w = 0.6251.\n",
      "Iteration over labor market: number 108, ExDmd = 2781.8863 and w = 0.3126.\n",
      "Iteration over labor market: number 109, ExDmd = -50000.0 and w = 0.4688.\n",
      "Iteration over labor market: number 110, ExDmd = -45374.2587 and w = 0.3907.\n",
      "\n",
      "Iteration over labor market: number 111, ExDmd = -31306.1831 and w = 0.3516.\n",
      "Iteration over labor market: number 112, ExDmd = -17522.1717 and w = 0.3321.\n",
      "Iteration over labor market: number 113, ExDmd = -8392.0534 and w = 0.3224.\n",
      "Iteration over labor market: number 114, ExDmd = -3094.6602 and w = 0.3175.\n",
      "Iteration over labor market: number 115, ExDmd = -155.3425 and w = 0.315.\n",
      "\n",
      "Iteration over labor market: number 116, ExDmd = 1275.8651 and w = 0.3138.\n",
      "Iteration over labor market: number 117, ExDmd = 509.2665 and w = 0.3144.\n",
      "Iteration over labor market: number 118, ExDmd = 188.3944 and w = 0.3147.\n",
      "Iteration over labor market: number 119, ExDmd = 44.0029 and w = 0.3149.\n",
      "Iteration over labor market: number 120, ExDmd = -61.2641 and w = 0.315.\n",
      "\n",
      "Iteration over labor market: number 121, ExDmd = 5.2164 and w = 0.3149.\n",
      "Iteration over labor market: number 122, ExDmd = -36.6495 and w = 0.3149.\n",
      "Iteration over labor market: number 123, ExDmd = -21.762 and w = 0.3149.\n",
      "----------------------------------------\n",
      "The labor market clearing wage is 0.3149\n",
      "----------------------------------------\n",
      " \n",
      "Iteration over capital market: number 7, ExDmd = 86.518 and r = 0.6797.\n",
      " \n",
      "Iteration over labor market: number 124, ExDmd = -50000.0 and w = 1.\n",
      "Iteration over labor market: number 125, ExDmd = -50000.0 and w = 0.6251.\n",
      "\n",
      "Iteration over labor market: number 126, ExDmd = 1428.9261 and w = 0.3126.\n",
      "Iteration over labor market: number 127, ExDmd = -50000.0 and w = 0.4688.\n",
      "Iteration over labor market: number 128, ExDmd = -45548.6915 and w = 0.3907.\n",
      "Iteration over labor market: number 129, ExDmd = -31880.3261 and w = 0.3516.\n",
      "Iteration over labor market: number 130, ExDmd = -18412.3756 and w = 0.3321.\n",
      "\n",
      "Iteration over labor market: number 131, ExDmd = -9645.5781 and w = 0.3224.\n",
      "Iteration over labor market: number 132, ExDmd = -4262.8162 and w = 0.3175.\n",
      "Iteration over labor market: number 133, ExDmd = -1530.0036 and w = 0.315.\n",
      "Iteration over labor market: number 134, ExDmd = -13.904 and w = 0.3138.\n",
      "Iteration over labor market: number 135, ExDmd = 689.928 and w = 0.3132.\n",
      "\n",
      "Iteration over labor market: number 136, ExDmd = 336.2126 and w = 0.3135.\n",
      "Iteration over labor market: number 137, ExDmd = 178.5805 and w = 0.3137.\n",
      "Iteration over labor market: number 138, ExDmd = 93.9377 and w = 0.3137.\n",
      "Iteration over labor market: number 139, ExDmd = 26.5026 and w = 0.3138.\n",
      "----------------------------------------\n",
      "The labor market clearing wage is 0.3138\n",
      "----------------------------------------\n",
      " \n",
      "Iteration over capital market: number 8, ExDmd = 33.26 and r = 0.6914.\n",
      "\n",
      " \n",
      "Iteration over labor market: number 140, ExDmd = -50000.0 and w = 1.\n",
      "\n",
      "Iteration over labor market: number 141, ExDmd = -50000.0 and w = 0.6251.\n",
      "Iteration over labor market: number 142, ExDmd = 767.3545 and w = 0.3126.\n",
      "Iteration over labor market: number 143, ExDmd = -50000.0 and w = 0.4688.\n",
      "Iteration over labor market: number 144, ExDmd = -45636.163 and w = 0.3907.\n",
      "Iteration over labor market: number 145, ExDmd = -32195.8086 and w = 0.3516.\n",
      "\n",
      "Iteration over labor market: number 146, ExDmd = -18907.5042 and w = 0.3321.\n",
      "Iteration over labor market: number 147, ExDmd = -10176.4913 and w = 0.3224.\n",
      "Iteration over labor market: number 148, ExDmd = -4874.1432 and w = 0.3175.\n",
      "Iteration over labor market: number 149, ExDmd = -2197.9554 and w = 0.315.\n",
      "Iteration over labor market: number 150, ExDmd = -684.6186 and w = 0.3138.\n",
      "\n",
      "Iteration over labor market: number 151, ExDmd = 79.7212 and w = 0.3132.\n",
      "Iteration over labor market: number 152, ExDmd = -318.4769 and w = 0.3135.\n",
      "Iteration over labor market: number 153, ExDmd = -138.4293 and w = 0.3134.\n",
      "Iteration over labor market: number 154, ExDmd = -32.6476 and w = 0.3133.\n",
      "Iteration over labor market: number 155, ExDmd = 42.751 and w = 0.3132.\n",
      "\n",
      "Iteration over labor market: number 156, ExDmd = -8.7411 and w = 0.3133.\n",
      "Iteration over labor market: number 157, ExDmd = 17.2931 and w = 0.3132.\n",
      "Iteration over labor market: number 158, ExDmd = 8.3216 and w = 0.3133.\n",
      "----------------------------------------\n",
      "The labor market clearing wage is 0.3133\n",
      "----------------------------------------\n",
      " \n",
      "Iteration over capital market: number 9, ExDmd = 7.1281 and r = 0.6973.\n",
      " \n",
      "Iteration over labor market: number 159, ExDmd = -50000.0 and w = 1.\n",
      "Iteration over labor market: number 160, ExDmd = -50000.0 and w = 0.6251.\n",
      "\n",
      "Iteration over labor market: number 161, ExDmd = 471.1413 and w = 0.3126.\n",
      "Iteration over labor market: number 162, ExDmd = -50000.0 and w = 0.4688.\n",
      "Iteration over labor market: number 163, ExDmd = -45664.2139 and w = 0.3907.\n",
      "Iteration over labor market: number 164, ExDmd = -32358.2167 and w = 0.3516.\n",
      "Iteration over labor market: number 165, ExDmd = -19118.4535 and w = 0.3321.\n",
      "\n",
      "Iteration over labor market: number 166, ExDmd = -10461.1811 and w = 0.3224.\n",
      "Iteration over labor market: number 167, ExDmd = -5136.4887 and w = 0.3175.\n",
      "Iteration over labor market: number 168, ExDmd = -2514.9813 and w = 0.315.\n",
      "Iteration over labor market: number 169, ExDmd = -1044.7462 and w = 0.3138.\n",
      "Iteration over labor market: number 170, ExDmd = -273.2986 and w = 0.3132.\n",
      "\n",
      "Iteration over labor market: number 171, ExDmd = 122.214 and w = 0.3129.\n",
      "Iteration over labor market: number 172, ExDmd = -100.1635 and w = 0.313.\n",
      "Iteration over labor market: number 173, ExDmd = 5.2186 and w = 0.313.\n",
      "Iteration over labor market: number 174, ExDmd = -34.7108 and w = 0.313.\n",
      "Iteration over labor market: number 175, ExDmd = -16.4047 and w = 0.313.\n",
      "\n",
      "----------------------------------------\n",
      "The labor market clearing wage is 0.313\n",
      "----------------------------------------\n",
      " \n",
      "Iteration over capital market: number 10, ExDmd = -7.0151 and r = 0.7002.\n",
      " \n",
      "Iteration over labor market: number 176, ExDmd = -50000.0 and w = 1.\n",
      "Iteration over labor market: number 177, ExDmd = -50000.0 and w = 0.6251.\n",
      "Iteration over labor market: number 178, ExDmd = 615.9108 and w = 0.3126.\n",
      "Iteration over labor market: number 179, ExDmd = -50000.0 and w = 0.4688.\n",
      "Iteration over labor market: number 180, ExDmd = -45661.1484 and w = 0.3907.\n",
      "\n",
      "Iteration over labor market: number 181, ExDmd = -32283.4673 and w = 0.3516.\n",
      "Iteration over labor market: number 182, ExDmd = -19028.4383 and w = 0.3321.\n",
      "Iteration over labor market: number 183, ExDmd = -10310.4062 and w = 0.3224.\n",
      "Iteration over labor market: number 184, ExDmd = -5006.21 and w = 0.3175.\n",
      "Iteration over labor market: number 185, ExDmd = -2362.4988 and w = 0.315.\n",
      "\n",
      "Iteration over labor market: number 186, ExDmd = -872.9206 and w = 0.3138.\n",
      "Iteration over labor market: number 187, ExDmd = -130.1096 and w = 0.3132.\n",
      "Iteration over labor market: number 188, ExDmd = 287.4505 and w = 0.3129.\n",
      "Iteration over labor market: number 189, ExDmd = 96.5385 and w = 0.313.\n",
      "Iteration over labor market: number 190, ExDmd = -7.4725 and w = 0.3131.\n",
      "\n",
      "Iteration over labor market: number 191, ExDmd = 60.7591 and w = 0.3131.\n",
      "Iteration over labor market: number 192, ExDmd = 37.6699 and w = 0.3131.\n",
      "Iteration over labor market: number 193, ExDmd = 9.0156 and w = 0.3131.\n",
      "----------------------------------------\n",
      "The labor market clearing wage is 0.3131\n",
      "----------------------------------------\n",
      "---------------------------------------------------\n",
      "The capital market clearing interest rate is 0.6987\n",
      "---------------------------------------------------\n",
      "It took exactly 73.69 seconds to run both loops.\n",
      "\n"
     ]
    }
   ],
   "source": [
    "###############################################################################\n",
    "start = time.time()\n",
    "print(\"How long does it take to run the two loops?\\n\")\n",
    "# Solving the model (loop over 'r' and 'w' to check if the markets clear)\n",
    "# \n",
    "# Outer Loop: Interest Rate\n",
    "while r_loop < iter_max: \n",
    "    \n",
    "    if r_loop > 1:\n",
    "        w=1; w_high = 2.5*w; w_low=0.0001*w; # restart of wage rate\n",
    "\n",
    "    # Inner Loop: Wage Rate\n",
    "    while w_loop < iter_max: \n",
    "            \n",
    "    # Solving the economy\n",
    "        for i in range(n): # loop over all the agents of the economy\n",
    "            # Let's rename the individual's ability and wealth to save some space\n",
    "            θ = x[i][0] # entrepreneur's ability of agent \"i\"\n",
    "            Λ = b[i][0] # wealth of agent \"i\"\n",
    "\n",
    "            ## Firms\n",
    "            # u: unconstrained firms\n",
    "            kfu  = (θ*(1-τ_f)*((α/(1+r))**(1-β))*((β/w)**β))**(1/(1-α-β)) # capital\n",
    "            lfu  = (θ*(1-τ_f)*((α/(1+r))**α)*(β/w)**(1-α))**(1/(1-α-β))   # labor\n",
    "            yfu  = (1-τ_f)*θ*(kfu**α)*(lfu**β)                            # technology\n",
    "            \n",
    "            income_formal_un = yfu - w*lfu - (1+r)*(kfu - Λ)             # income\n",
    "            cfu  = η*income_formal_un                                     # consumption\n",
    "            b1fu = (1-η)*income_formal_un                                 # accumulated wealth\n",
    "            \n",
    "            # c: constrained firms\n",
    "            θ   = θ*ι\n",
    "            kfc  = λ*Λ                                       # capital\n",
    "            lfc  = (θ*(1-τ_f)*(β/w)*((kfc)**α))**(1/(1-β))   # labor\n",
    "            yfc  = (1-τ_f)*θ*(kfc**α)*(lfc**β)               # technology\n",
    "            \n",
    "            income_formal_c = yfc - w*lfc - (1+r)*(kfc - Λ)  # income\n",
    "            cfc  = η*income_formal_c                         # consumption\n",
    "            b1fc = (1-η)*income_formal_c                     # accumulated wealth\n",
    "            \n",
    "\n",
    "            ## Workers\n",
    "            income_worker = (1-τ_w)*w + (1+r)*Λ   # income\n",
    "            cw            = η*income_worker       # consumption\n",
    "            b1w           = (1-η)*income_worker   # accumulated wealth\n",
    "            \n",
    "            ## Decision of agents (Optimization) - occupational choice    \n",
    "            if ((income_worker > income_formal_un) & (income_worker > income_formal_c)):\n",
    "                occupation[i,0] = 1 # worker\n",
    "                output[i,0] = 0\n",
    "                income[i,0] = income_worker\n",
    "                c[i,0] = cw\n",
    "                kf[i,0] = 0\n",
    "                lf[i,0] = 0\n",
    "                b1[i,0] = b1w\n",
    "            elif ((income_formal_un > income_worker) & (income_formal_un > income_formal_c)):\n",
    "                # if the formal firm is Unconstrained\n",
    "                occupation[i,0] = 2\n",
    "                output[i,0] = yfu\n",
    "                income[i,0] = income_formal_un\n",
    "                kf[i,0] = kfu\n",
    "                c[i,0] = cfu\n",
    "                lf[i,0] = lfu\n",
    "                b1[i,0] = b1fu\n",
    "            else: # income_formal_c > income_formal_un\n",
    "                occupation[i,0] = 3\n",
    "                output[i,0] = yfc\n",
    "                income[i,0] = income_formal_c\n",
    "                kf[i,0] = kfc\n",
    "                c[i,0] = cfc\n",
    "                lf[i,0] = lfc\n",
    "                credit[i,0] = kfc - Λ # credit used\n",
    "                b1[i,0] = b1fc\n",
    "     \n",
    "        endowments           = np.concatenate((b,x,occupation),axis=1)          # Characterization of agents\n",
    "        output_by_occupation = np.concatenate((output,occupation),axis=1)       # Output by occupation\n",
    "        labor_demand         = np.concatenate((lf,occupation),axis=1)           # Labor demand\n",
    "        capital_demand       = np.concatenate((kf,occupation),axis=1)           # Capital demand\n",
    "        agents               = np.concatenate((income,c,b,x,occupation),axis=1) # Consumption and Income\n",
    "            \n",
    "        # Finding each agent in the population (1st optimization)\n",
    "        # \n",
    "        # use np.argwhere to group the indices by element \n",
    "        # np.argwhere returns a row for each non-zero element\n",
    "        # \n",
    "        worker                   = np.argwhere(endowments[:,2]==1) # indexes - workers\n",
    "        formal_unconstrained     = np.argwhere(endowments[:,2]==2) # indexes - unconstrained firms\n",
    "        formal_constrained       = np.argwhere(endowments[:,2]==3) # indexes - constrained firms\n",
    "        all_formal_firms         = np.argwhere(endowments[:,2]!=1) # indexes - all firms\n",
    "        \n",
    "        # Number of agents in each occupation\n",
    "        n_worker                   = len(np.array(worker).flatten())\n",
    "        n_formal_unconstrained     = len(np.array(formal_unconstrained).flatten())\n",
    "        n_formal_constrained       = len(np.array(formal_constrained).flatten())\n",
    "        \n",
    "        # Labor market clearing\n",
    "        # \n",
    "        labor_demand_all = np.sum(labor_demand[all_formal_firms,0])\n",
    "        labor_supply_all = n_worker\n",
    "        # Let's rename the terms to save space in the code\n",
    "        Of = labor_demand_all\n",
    "        Ow = labor_supply_all\n",
    "        # \n",
    "        ## Labor Market Clearing ##\n",
    "        # \n",
    "        ExDmd = Of - Ow # Market Clearing => ExcessDemand ≈ 0\n",
    "        \n",
    "        if np.abs(ExDmd) < tol1:\n",
    "            print('----------------------------------------')\n",
    "            print('The labor market clearing wage is {}'.format(round(w,4)))\n",
    "            print('----------------------------------------')\n",
    "            break # If the above condition is satisfied, we will exit to the outside loop\n",
    "        \n",
    "        # Updating the wage by bisection method\n",
    "        if ExDmd > 0:\n",
    "            w_low = (w_high + w_low)/2  # wage rate is increased\n",
    "        else:\n",
    "            w_high = (w_high + w_low)/2 # wage rate is decreased otherwise\n",
    "        \n",
    "        t1 = np.mod(w_loop,5); t2 = np.mod(w_loop,10);\n",
    "        \n",
    "        if t1 == 0:\n",
    "            print('Iteration over labor market: number {}, ExDmd = {} and w = {}.'.format(\n",
    "                w_loop, round(ExDmd,decimal), round(w,decimal)))\n",
    "            print('')\n",
    "        else:\n",
    "            print('Iteration over labor market: number {}, ExDmd = {} and w = {}.'.format(\n",
    "                w_loop, round(ExDmd,decimal), round(w,decimal)))\n",
    "            \n",
    "        w = (w_high + w_low)/2 # wage rate update\n",
    "        w_loop = w_loop + 1 # updating\n",
    "        \n",
    "    ## Capital market equilibrium\n",
    "    #  Attention! Notice that we are now outside of the previous loop.\n",
    "    # \n",
    "    capital_demand_all = np.sum(capital_demand[all_formal_firms,0])\n",
    "    capital_supply_all = np.sum(endowments[:,0])\n",
    "    \n",
    "    # Let's rename the terms to save space in the code\n",
    "    K = capital_demand_all\n",
    "    B = capital_supply_all\n",
    "    # \n",
    "    ## Capital Market Clearing ##\n",
    "    # \n",
    "    ExDmd_k = K - B # Market Clearing => ExcessDemand ≈ 0\n",
    "\n",
    "    if np.abs(ExDmd_k) < tol1:\n",
    "        print('---------------------------------------------------')\n",
    "        print('The capital market clearing interest rate is {}'.format(round(r,4)))\n",
    "        print('---------------------------------------------------')\n",
    "        break\n",
    "        \n",
    "    # Updating the interest rate by bisection method\n",
    "    if ExDmd_k > 0: # Excess demand for capital\n",
    "        r_low = (r_high + r_low)/2  # interest rate is increased\n",
    "    else: # ExDmd_k < 0\n",
    "        r_high = (r_high + r_low)/2 # interest rate is decreased otherwise\n",
    "    \n",
    "    t1 = np.mod(w_loop,5); t2 = np.mod(w_loop,10);\n",
    "            \n",
    "    if t1 == 0:\n",
    "        print(' ')\n",
    "        print('Iteration over capital market: number {}, ExDmd = {} and r = {}.'.format(\n",
    "            r_loop, round(ExDmd_k,decimal), round(r,decimal)))\n",
    "        print('')\n",
    "        print(' ')\n",
    "    else:\n",
    "        print(' ')\n",
    "        print('Iteration over capital market: number {}, ExDmd = {} and r = {}.'.format(\n",
    "            r_loop, round(ExDmd_k,decimal), round(r,decimal)))\n",
    "        print(' ')\n",
    "    r = (r_high + r_low)/2 # interest rate update\n",
    "    r_loop = r_loop + 1 # updating\n",
    "\n",
    "end = time.time()\n",
    "print(\"It took exactly {} seconds to run both loops.\\n\".format(round(end-start,2)))"
   ]
  },
  {
   "cell_type": "markdown",
   "metadata": {
    "slideshow": {
     "slide_type": "slide"
    }
   },
   "source": [
    "## Step 2: Study the economy in equilibrium\n",
    "\n",
    "\n",
    "- Output produced by unconstrained and constrained firms\n",
    "- Capital and labor per firm\n",
    "- Government tax revenue and taxes / GDP\n",
    "- Gini coefficient"
   ]
  },
  {
   "cell_type": "code",
   "execution_count": 9,
   "metadata": {
    "slideshow": {
     "slide_type": "subslide"
    }
   },
   "outputs": [],
   "source": [
    "# total output produced\n",
    "total_output = np.sum(output_by_occupation[:,0])\n",
    "\n",
    "# output produced by the unconstrained firms\n",
    "unconstrained_firms_index      = np.argwhere(output_by_occupation[:,1]==2)\n",
    "output_all_unconstrained_firms = output_by_occupation[unconstrained_firms_index,0]\n",
    "output_unconstrained_firms     = np.sum(output_all_unconstrained_firms)\n",
    "# \n",
    "# output produced by the constrained firms\n",
    "constrained_firms_index      = np.argwhere(output_by_occupation[:,1]==3)\n",
    "output_all_constrained_firms = output_by_occupation[constrained_firms_index,0]\n",
    "output_constrained_firms     = np.sum(output_all_constrained_firms)"
   ]
  },
  {
   "cell_type": "code",
   "execution_count": 10,
   "metadata": {
    "slideshow": {
     "slide_type": "subslide"
    }
   },
   "outputs": [],
   "source": [
    "# total capital\n",
    "total_capital = np.sum(capital_demand[:,0])\n",
    "# \n",
    "# capital used by the unconstrained firms\n",
    "unconstrained_firms_index       = np.argwhere(capital_demand[:,1]==2)\n",
    "capital_all_unconstrained_firms = capital_demand[unconstrained_firms_index,0]\n",
    "capital_unconstrained_firms     = np.sum(capital_all_unconstrained_firms)\n",
    "# \n",
    "# capital used by the constrained firms\n",
    "constrained_firms_index       = np.argwhere(capital_demand[:,1]==3)\n",
    "capital_all_constrained_firms = capital_demand[constrained_firms_index,0]\n",
    "capital_constrained_firms     = np.sum(capital_all_constrained_firms)"
   ]
  },
  {
   "cell_type": "code",
   "execution_count": 11,
   "metadata": {
    "slideshow": {
     "slide_type": "subslide"
    }
   },
   "outputs": [],
   "source": [
    "# total labor\n",
    "total_labor = np.sum(labor_demand[:,0])\n",
    "# \n",
    "# labor used by the unconstrained firms\n",
    "unconstrained_firms_index     = np.argwhere(labor_demand[:,1]==2)\n",
    "labor_all_unconstrained_firms = labor_demand[unconstrained_firms_index,0]\n",
    "labor_unconstrained_firms     = np.sum(labor_all_unconstrained_firms)\n",
    "# \n",
    "# labor used by the constrained firms\n",
    "constrained_firms_index     = np.argwhere(labor_demand[:,1]==3)\n",
    "labor_all_constrained_firms = labor_demand[constrained_firms_index,0]\n",
    "labor_constrained_firms     = np.sum(labor_all_constrained_firms)"
   ]
  },
  {
   "cell_type": "code",
   "execution_count": 12,
   "metadata": {
    "slideshow": {
     "slide_type": "subslide"
    }
   },
   "outputs": [],
   "source": [
    "############################# Government Revenue ##############################\n",
    "T_F = τ_f*total_output                        #total output taxes\n",
    "T_W = τ_f*w*np.count_nonzero(occupation == 1) #total labor income taxes\n",
    "T   = T_F + T_W                               #total government tax revenues    \n",
    "\n",
    "# Tax revenue as a share of GDP (output)\n",
    "tax_burden=T/total_output*100"
   ]
  },
  {
   "cell_type": "markdown",
   "metadata": {
    "slideshow": {
     "slide_type": "subslide"
    }
   },
   "source": [
    "#### Measuring Inequality - Gini Coefficient"
   ]
  },
  {
   "cell_type": "code",
   "execution_count": 13,
   "metadata": {
    "slideshow": {
     "slide_type": "fragment"
    }
   },
   "outputs": [],
   "source": [
    "def gini(array):\n",
    "    \"\"\"Calculate the Gini coefficient of a numpy array.\"\"\"\n",
    "    array = array.flatten()\n",
    "    if np.amin(array) < 0:\n",
    "        # Values cannot be negative:\n",
    "        array -= np.amin(array)\n",
    "    \n",
    "    array += 0.0000001         # Values cannot be 0:\n",
    "    array = np.sort(array)     # Values must be sorted:\n",
    "    index = np.arange(1,array.shape[0]+1)   # Index per array element:\n",
    "    n = array.shape[0]         # Number of array elements:\n",
    "    \n",
    "    return ((np.sum((2 * index - n  - 1) * array)) / (n * np.sum(array))) # Gini coefficient:\n",
    "\n",
    "#from gini import gini\n",
    "\n",
    "income_gini = gini(income)"
   ]
  },
  {
   "cell_type": "code",
   "execution_count": 14,
   "metadata": {
    "slideshow": {
     "slide_type": "skip"
    }
   },
   "outputs": [],
   "source": [
    "# Credit as share of GDP\n",
    "credit_to_output_ratio = np.sum(credit)/total_output*100"
   ]
  },
  {
   "cell_type": "code",
   "execution_count": 15,
   "metadata": {
    "scrolled": false,
    "slideshow": {
     "slide_type": "subslide"
    }
   },
   "outputs": [
    {
     "name": "stdout",
     "output_type": "stream",
     "text": [
      "Workers:             85.902%\n",
      "Unconstrained Firms:  5.782%\n",
      "Constrained Firms:    8.316%\n",
      "---------------------------------------------------------------\n",
      "Tax-to-GDP ratio    = 34.0996%\n",
      "Credit-to-GDP ratio = 11.9114%\n",
      "Income gini         = 0.197337\n"
     ]
    }
   ],
   "source": [
    "print('Workers:             {:2g}%'.format(np.count_nonzero(occupation == 1)/n*100))\n",
    "print('Unconstrained Firms:  {:2g}%'.format(np.count_nonzero(occupation == 2)/n*100))\n",
    "print('Constrained Firms:    {:2g}%'.format(np.count_nonzero(occupation == 3)/n*100))\n",
    "print('---------------------------------------------------------------')\n",
    "print('Tax-to-GDP ratio    = {:2g}%'.format(tax_burden))\n",
    "print('Credit-to-GDP ratio = {:2g}%'.format(np.sum(credit)/total_output*100))\n",
    "print('Income gini         = {:2g}'.format(income_gini))"
   ]
  },
  {
   "cell_type": "markdown",
   "metadata": {
    "slideshow": {
     "slide_type": "slide"
    }
   },
   "source": [
    "### Step 3: Output, capital and labor distributions"
   ]
  },
  {
   "cell_type": "code",
   "execution_count": 16,
   "metadata": {
    "slideshow": {
     "slide_type": "fragment"
    }
   },
   "outputs": [],
   "source": [
    "# import some additional libraries\n",
    "import seaborn as sns\n",
    "import pandas as pd"
   ]
  },
  {
   "cell_type": "code",
   "execution_count": 17,
   "metadata": {
    "scrolled": true,
    "slideshow": {
     "slide_type": "subslide"
    }
   },
   "outputs": [],
   "source": [
    "# Output\n",
    "df_output = pd.DataFrame(output_by_occupation, columns = ['Output','Firm_type'])\n",
    "df_output = df_output[df_output['Firm_type']!=1]\n",
    "df_output.reset_index(inplace=True,drop=True)\n",
    "\n",
    "# Recall that\n",
    "# Firm_type becomes 'Unconstrained firms' if Firm_type == 2\n",
    "# Firm_type becomes 'Constrained firms' if Firm_type == 3\n",
    "\n",
    "# Use the following lines below. We could also use loops to get all the firms, but it would take longer!\n",
    "# This strategy is much better than using loops!\n",
    "df_output.loc[df_output.Firm_type == 2, 'Firm_type'] = 'Unconstrained firms'\n",
    "df_output.loc[df_output.Firm_type == 3, 'Firm_type'] = 'Constrained firms'"
   ]
  },
  {
   "cell_type": "code",
   "execution_count": 18,
   "metadata": {
    "scrolled": true,
    "slideshow": {
     "slide_type": "subslide"
    }
   },
   "outputs": [],
   "source": [
    "# Capital\n",
    "df_capital = pd.DataFrame(capital_demand, columns = ['Capital','Firm_type'])\n",
    "df_capital = df_capital[df_capital['Firm_type']!=1]\n",
    "df_capital.reset_index(inplace=True,drop=True)\n",
    "\n",
    "df_capital.loc[df_capital.Firm_type == 2, 'Firm_type'] = 'Unconstrained firms'\n",
    "df_capital.loc[df_capital.Firm_type == 3, 'Firm_type'] = 'Constrained firms'"
   ]
  },
  {
   "cell_type": "code",
   "execution_count": 19,
   "metadata": {
    "scrolled": true,
    "slideshow": {
     "slide_type": "subslide"
    }
   },
   "outputs": [],
   "source": [
    "# Labor        \n",
    "df_labor = pd.DataFrame(labor_demand, columns = ['labor','Firm_type'])\n",
    "df_labor = df_labor[df_labor['Firm_type']!=1]\n",
    "df_labor.reset_index(inplace=True,drop=True)\n",
    "\n",
    "df_labor.loc[df_labor.Firm_type == 2, 'Firm_type'] = 'Unconstrained firms'\n",
    "df_labor.loc[df_labor.Firm_type == 3, 'Firm_type'] = 'Constrained firms'"
   ]
  },
  {
   "cell_type": "code",
   "execution_count": 20,
   "metadata": {
    "slideshow": {
     "slide_type": "subslide"
    }
   },
   "outputs": [
    {
     "data": {
      "text/plain": [
       "(0.0, 8.0)"
      ]
     },
     "execution_count": 20,
     "metadata": {},
     "output_type": "execute_result"
    },
    {
     "data": {
      "image/png": "[encoded data removed]",
      "text/plain": [
       "<Figure size 461.25x216 with 1 Axes>"
      ]
     },
     "metadata": {
      "needs_background": "light"
     },
     "output_type": "display_data"
    }
   ],
   "source": [
    "# Distribution of Output by firm type\n",
    "ax=sns.displot(data=df_output, x=\"Output\",\n",
    "               hue=\"Firm_type\", kind=\"kde\", fill=True,\n",
    "               height=3,  aspect=1.5)\n",
    "ax.set(title = 'Output Distribution', xlabel='Output', ylabel='Density')\n",
    "plt.xlim(0, np.ceil(np.max(df_output['Output'])))"
   ]
  },
  {
   "cell_type": "code",
   "execution_count": 21,
   "metadata": {
    "scrolled": true,
    "slideshow": {
     "slide_type": "subslide"
    }
   },
   "outputs": [
    {
     "data": {
      "text/plain": [
       "(0.0, 2.0)"
      ]
     },
     "execution_count": 21,
     "metadata": {},
     "output_type": "execute_result"
    },
    {
     "data": {
      "image/png": "[encoded data removed]",
      "text/plain": [
       "<Figure size 461.25x216 with 1 Axes>"
      ]
     },
     "metadata": {
      "needs_background": "light"
     },
     "output_type": "display_data"
    }
   ],
   "source": [
    "# Distribution of Capital by firm type\n",
    "ax=sns.displot(data=df_capital, x=\"Capital\",\n",
    "               hue=\"Firm_type\", kind=\"kde\", fill=True,\n",
    "               height=3, aspect=1.5)\n",
    "ax.set(title = 'Capital Distribution', xlabel='Capital', ylabel='Density')\n",
    "plt.xlim(0, np.ceil(np.max(df_capital['Capital'])))"
   ]
  },
  {
   "cell_type": "code",
   "execution_count": 22,
   "metadata": {
    "scrolled": false,
    "slideshow": {
     "slide_type": "subslide"
    }
   },
   "outputs": [
    {
     "data": {
      "text/plain": [
       "(0.0, 14.0)"
      ]
     },
     "execution_count": 22,
     "metadata": {},
     "output_type": "execute_result"
    },
    {
     "data": {
      "image/png": "[encoded data removed]",
      "text/plain": [
       "<Figure size 461.25x216 with 1 Axes>"
      ]
     },
     "metadata": {
      "needs_background": "light"
     },
     "output_type": "display_data"
    }
   ],
   "source": [
    "# Distribution of Labor by firm type\n",
    "ax=sns.displot(data=df_labor, x=\"labor\",\n",
    "               hue=\"Firm_type\", kind=\"kde\", fill=True,\n",
    "               height=3, aspect=1.5)\n",
    "ax.set(title = 'Labor Distribution', xlabel='Labor', ylabel='Density')\n",
    "plt.xlim(0, np.ceil(np.max(df_labor['labor'])))"
   ]
  },
  {
   "cell_type": "markdown",
   "metadata": {
    "slideshow": {
     "slide_type": "slide"
    }
   },
   "source": [
    "### References:\n",
    "\n",
    "* [Banerkee and Newman (JPE, 1993)](https://www.journals.uchicago.edu/doi/abs/10.1086/261876)\n",
    "* [Antunes, Cavalcanti and Villamil (JME, 2008)](https://www.sciencedirect.com/science/article/abs/pii/S0304393207001444)\n",
    "* [Buera, Jaef and Shin (RED, 2015)](https://www.sciencedirect.com/science/article/abs/pii/S1094202514000714)\n",
    "* [Yu and Fu (Economic Modelling, 2021)](https://www.sciencedirect.com/science/article/pii/S0264999321000365)\n",
    "* [Arbex, Corrêa and Magalhães (BEJM, 2022)](https://doi.org/10.1515/bejm-2021-0076): The kind of analysis we just performed is a version this paper\n"
   ]
  }
 ],
 "metadata": {
  "celltoolbar": "Slideshow",
  "kernelspec": {
   "display_name": "Python 3 (ipykernel)",
   "language": "python",
   "name": "python3"
  },
  "language_info": {
   "codemirror_mode": {
    "name": "ipython",
    "version": 3
   },
   "file_extension": ".py",
   "mimetype": "text/x-python",
   "name": "python",
   "nbconvert_exporter": "python",
   "pygments_lexer": "ipython3",
   "version": "3.8.2"
  },
  "rise": {
   "enable_chalkboard": true
  },
  "title": "Capital Law of Motion and Growth",
  "varInspector": {
   "cols": {
    "lenName": 16,
    "lenType": 16,
    "lenVar": 40
   },
   "kernels_config": {
    "python": {
     "delete_cmd_postfix": "",
     "delete_cmd_prefix": "del ",
     "library": "var_list.py",
     "varRefreshCmd": "print(var_dic_list())"
    },
    "r": {
     "delete_cmd_postfix": ") ",
     "delete_cmd_prefix": "rm(",
     "library": "var_list.r",
     "varRefreshCmd": "cat(var_dic_list()) "
    }
   },
   "types_to_exclude": [
    "module",
    "function",
    "builtin_function_or_method",
    "instance",
    "_Feature"
   ],
   "window_display": false
  }
 },
 "nbformat": 4,
 "nbformat_minor": 4
}
